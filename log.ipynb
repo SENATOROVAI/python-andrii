{
 "cells": [
  {
   "cell_type": "code",
   "execution_count": null,
   "metadata": {},
   "outputs": [],
   "source": [
    "дата 23.10.2023\n",
    "1) intro\n",
    "2) comunity introduction\n",
    "3) fork, ask for review\n",
    "4) vs code, create named git project, plugins\n",
    "5) linter, flake8, gitlens, black formatter, mypy\n",
    "6) vscode jupyter\n",
    "7) mypy *.[ipynb, py]"
   ]
  },
  {
   "cell_type": "code",
   "execution_count": null,
   "metadata": {},
   "outputs": [],
   "source": [
    "дата\n",
    "1)\n",
    "2)\n",
    "3)"
   ]
  }
 ],
 "metadata": {
  "language_info": {
   "name": "python"
  }
 },
 "nbformat": 4,
 "nbformat_minor": 2
}
